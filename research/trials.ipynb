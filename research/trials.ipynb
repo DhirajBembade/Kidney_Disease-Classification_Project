{
 "cells": [
  {
   "cell_type": "code",
   "execution_count": 8,
   "metadata": {},
   "outputs": [
    {
     "name": "stdout",
     "output_type": "stream",
     "text": [
      "Requirement already satisfied: gdown in /Users/dhiraj-mac/Work/weather_us/venv/lib/python3.10/site-packages (4.7.1)\n",
      "Requirement already satisfied: filelock in /Users/dhiraj-mac/Work/weather_us/venv/lib/python3.10/site-packages (from gdown) (3.13.1)\n",
      "Requirement already satisfied: requests[socks] in /Users/dhiraj-mac/Work/weather_us/venv/lib/python3.10/site-packages (from gdown) (2.30.0)\n",
      "Requirement already satisfied: six in /Users/dhiraj-mac/Work/weather_us/venv/lib/python3.10/site-packages (from gdown) (1.16.0)\n",
      "Requirement already satisfied: tqdm in /Users/dhiraj-mac/Work/weather_us/venv/lib/python3.10/site-packages (from gdown) (4.66.1)\n",
      "Requirement already satisfied: beautifulsoup4 in /Users/dhiraj-mac/Work/weather_us/venv/lib/python3.10/site-packages (from gdown) (4.12.2)\n",
      "Requirement already satisfied: soupsieve>1.2 in /Users/dhiraj-mac/Work/weather_us/venv/lib/python3.10/site-packages (from beautifulsoup4->gdown) (2.4.1)\n",
      "Requirement already satisfied: charset-normalizer<4,>=2 in /Users/dhiraj-mac/Work/weather_us/venv/lib/python3.10/site-packages (from requests[socks]->gdown) (3.1.0)\n",
      "Requirement already satisfied: idna<4,>=2.5 in /Users/dhiraj-mac/Work/weather_us/venv/lib/python3.10/site-packages (from requests[socks]->gdown) (3.4)\n",
      "Requirement already satisfied: urllib3<3,>=1.21.1 in /Users/dhiraj-mac/Work/weather_us/venv/lib/python3.10/site-packages (from requests[socks]->gdown) (2.0.2)\n",
      "Requirement already satisfied: certifi>=2017.4.17 in /Users/dhiraj-mac/Work/weather_us/venv/lib/python3.10/site-packages (from requests[socks]->gdown) (2023.5.7)\n",
      "Requirement already satisfied: PySocks!=1.5.7,>=1.5.6 in /Users/dhiraj-mac/Work/weather_us/venv/lib/python3.10/site-packages (from requests[socks]->gdown) (1.7.1)\n",
      "Note: you may need to restart the kernel to use updated packages.\n"
     ]
    }
   ],
   "source": [
    "#pip install gdown"
   ]
  },
  {
   "cell_type": "code",
   "execution_count": 9,
   "metadata": {},
   "outputs": [],
   "source": [
    "url = \"https://drive.google.com/file/d/1uBG8oCKphAargmLDGP2l_Pl_j2xbxiB5/view?usp=drive_link\"\n"
   ]
  },
  {
   "cell_type": "code",
   "execution_count": 10,
   "metadata": {},
   "outputs": [
    {
     "data": {
      "text/plain": [
       "'1uBG8oCKphAargmLDGP2l_Pl_j2xbxiB5'"
      ]
     },
     "execution_count": 10,
     "metadata": {},
     "output_type": "execute_result"
    }
   ],
   "source": [
    "file_id = url.split(\"/\")[-2]\n",
    "file_id"
   ]
  },
  {
   "cell_type": "code",
   "execution_count": 13,
   "metadata": {},
   "outputs": [
    {
     "name": "stderr",
     "output_type": "stream",
     "text": [
      "Downloading...\n",
      "From (uriginal): https://drive.google.com/uc?id=1uBG8oCKphAargmLDGP2l_Pl_j2xbxiB5\n",
      "From (redirected): https://drive.google.com/uc?id=1uBG8oCKphAargmLDGP2l_Pl_j2xbxiB5&confirm=t&uuid=15979006-7348-41e3-8519-c729fad027ad\n",
      "To: /Users/dhiraj-mac/Work/Kidney_Disease-Classification_Project/research/CT-KIDNEY-DATASET.zip\n",
      "100%|██████████| 943M/943M [03:17<00:00, 4.78MB/s] \n"
     ]
    },
    {
     "data": {
      "text/plain": [
       "'CT-KIDNEY-DATASET.zip'"
      ]
     },
     "execution_count": 13,
     "metadata": {},
     "output_type": "execute_result"
    }
   ],
   "source": [
    "prefix = \"https://drive.google.com/uc?id=\"\n",
    "gdown.download(prefix+ file_id, \"CT-KIDNEY-DATASET.zip\")"
   ]
  },
  {
   "cell_type": "code",
   "execution_count": 15,
   "metadata": {},
   "outputs": [],
   "source": [
    " #  import gdown\n",
    "\n",
    "    #file_id = \"1vF4EpAZ6PTk71nftscaYKbL3nVLtrGRR\"\n",
    "    #url = f\"https://drive.google.com/uc?export=download&id={file_id}\"\n",
    "    #output = \"CT-KIDNEY-DATASET.zip\"\n",
    "\n",
    "    #gdown.download(url, output, quiet=False)'''\n"
   ]
  },
  {
   "cell_type": "code",
   "execution_count": null,
   "metadata": {},
   "outputs": [],
   "source": []
  }
 ],
 "metadata": {
  "kernelspec": {
   "display_name": "Kedro (weather_us)",
   "language": "python",
   "name": "kedro_weather_us"
  },
  "language_info": {
   "codemirror_mode": {
    "name": "ipython",
    "version": 3
   },
   "file_extension": ".py",
   "mimetype": "text/x-python",
   "name": "python",
   "nbconvert_exporter": "python",
   "pygments_lexer": "ipython3",
   "version": "3.10.11"
  }
 },
 "nbformat": 4,
 "nbformat_minor": 2
}
